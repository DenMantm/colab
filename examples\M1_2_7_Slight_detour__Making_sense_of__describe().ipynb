{
  "nbformat": 4,
  "nbformat_minor": 0,
  "metadata": {
    "colab": {
      "name": "M1.2.7_Slight_detour_ Making_sense_of_.describe().ipynb",
      "provenance": [],
      "collapsed_sections": [
        "z1EEBSxfMxnb"
      ],
      "include_colab_link": true
    },
    "kernelspec": {
      "name": "python3",
      "display_name": "Python 3"
    }
  },
  "cells": [
    {
      "cell_type": "markdown",
      "metadata": {
        "id": "view-in-github",
        "colab_type": "text"
      },
      "source": [
        "<a href=\"https://colab.research.google.com/github/DenMantm/colab/blob/main/examples%5CM1_2_7_Slight_detour__Making_sense_of__describe().ipynb\" target=\"_parent\"><img src=\"https://colab.research.google.com/assets/colab-badge.svg\" alt=\"Open In Colab\"/></a>"
      ]
    },
    {
      "cell_type": "markdown",
      "metadata": {
        "id": "z1EEBSxfMxnb"
      },
      "source": [
        "# Slight detour: Making sense of `.describe()`\n",
        "\n",
        "One of our old pandas friends is `.describe()`. It describes some mathematical stuff about a data set."
      ]
    },
    {
      "cell_type": "code",
      "metadata": {
        "id": "PmSz48r0Mxnb",
        "colab": {
          "base_uri": "https://localhost:8080/",
          "height": 195
        },
        "outputId": "225763d1-d6a0-4da9-d40a-c4947276615d"
      },
      "source": [
        "import pandas as pd\n",
        "df=pd.DataFrame([\n",
        "                 {'name':'Smushface', 'salary':1200},\n",
        "                 {'name':'Jen', 'salary':25000},\n",
        "                 {'name':'James', 'salary':55000},\n",
        "                 {'name':'John', 'salary':35000},\n",
        "                 {'name':'Josephine', 'salary':25000},\n",
        "                 {'name':'Jacques', 'salary':15000},\n",
        "                 {'name':'Bill Gates', 'salary':100000}])\n",
        "df.head()"
      ],
      "execution_count": null,
      "outputs": [
        {
          "output_type": "execute_result",
          "data": {
            "text/html": [
              "<div>\n",
              "<style scoped>\n",
              "    .dataframe tbody tr th:only-of-type {\n",
              "        vertical-align: middle;\n",
              "    }\n",
              "\n",
              "    .dataframe tbody tr th {\n",
              "        vertical-align: top;\n",
              "    }\n",
              "\n",
              "    .dataframe thead th {\n",
              "        text-align: right;\n",
              "    }\n",
              "</style>\n",
              "<table border=\"1\" class=\"dataframe\">\n",
              "  <thead>\n",
              "    <tr style=\"text-align: right;\">\n",
              "      <th></th>\n",
              "      <th>name</th>\n",
              "      <th>salary</th>\n",
              "    </tr>\n",
              "  </thead>\n",
              "  <tbody>\n",
              "    <tr>\n",
              "      <th>0</th>\n",
              "      <td>Smushface</td>\n",
              "      <td>1200</td>\n",
              "    </tr>\n",
              "    <tr>\n",
              "      <th>1</th>\n",
              "      <td>Jen</td>\n",
              "      <td>25000</td>\n",
              "    </tr>\n",
              "    <tr>\n",
              "      <th>2</th>\n",
              "      <td>James</td>\n",
              "      <td>55000</td>\n",
              "    </tr>\n",
              "    <tr>\n",
              "      <th>3</th>\n",
              "      <td>John</td>\n",
              "      <td>35000</td>\n",
              "    </tr>\n",
              "    <tr>\n",
              "      <th>4</th>\n",
              "      <td>Josephine</td>\n",
              "      <td>25000</td>\n",
              "    </tr>\n",
              "  </tbody>\n",
              "</table>\n",
              "</div>"
            ],
            "text/plain": [
              "        name  salary\n",
              "0  Smushface    1200\n",
              "1        Jen   25000\n",
              "2      James   55000\n",
              "3       John   35000\n",
              "4  Josephine   25000"
            ]
          },
          "metadata": {
            "tags": []
          },
          "execution_count": 1
        }
      ]
    },
    {
      "cell_type": "code",
      "metadata": {
        "id": "AwwqX9VpMxnc",
        "colab": {
          "base_uri": "https://localhost:8080/",
          "height": 284
        },
        "outputId": "3f2ac12c-084c-4af0-f212-822490d97b9f"
      },
      "source": [
        "# Make it so we only have three decimal places\n",
        "pd.set_option('display.float_format', lambda x: '%.3f' % x)\n",
        "df.describe()"
      ],
      "execution_count": null,
      "outputs": [
        {
          "output_type": "execute_result",
          "data": {
            "text/html": [
              "<div>\n",
              "<style scoped>\n",
              "    .dataframe tbody tr th:only-of-type {\n",
              "        vertical-align: middle;\n",
              "    }\n",
              "\n",
              "    .dataframe tbody tr th {\n",
              "        vertical-align: top;\n",
              "    }\n",
              "\n",
              "    .dataframe thead th {\n",
              "        text-align: right;\n",
              "    }\n",
              "</style>\n",
              "<table border=\"1\" class=\"dataframe\">\n",
              "  <thead>\n",
              "    <tr style=\"text-align: right;\">\n",
              "      <th></th>\n",
              "      <th>salary</th>\n",
              "    </tr>\n",
              "  </thead>\n",
              "  <tbody>\n",
              "    <tr>\n",
              "      <th>count</th>\n",
              "      <td>7.000</td>\n",
              "    </tr>\n",
              "    <tr>\n",
              "      <th>mean</th>\n",
              "      <td>36600.000</td>\n",
              "    </tr>\n",
              "    <tr>\n",
              "      <th>std</th>\n",
              "      <td>32530.806</td>\n",
              "    </tr>\n",
              "    <tr>\n",
              "      <th>min</th>\n",
              "      <td>1200.000</td>\n",
              "    </tr>\n",
              "    <tr>\n",
              "      <th>25%</th>\n",
              "      <td>20000.000</td>\n",
              "    </tr>\n",
              "    <tr>\n",
              "      <th>50%</th>\n",
              "      <td>25000.000</td>\n",
              "    </tr>\n",
              "    <tr>\n",
              "      <th>75%</th>\n",
              "      <td>45000.000</td>\n",
              "    </tr>\n",
              "    <tr>\n",
              "      <th>max</th>\n",
              "      <td>100000.000</td>\n",
              "    </tr>\n",
              "  </tbody>\n",
              "</table>\n",
              "</div>"
            ],
            "text/plain": [
              "          salary\n",
              "count      7.000\n",
              "mean   36600.000\n",
              "std    32530.806\n",
              "min     1200.000\n",
              "25%    20000.000\n",
              "50%    25000.000\n",
              "75%    45000.000\n",
              "max   100000.000"
            ]
          },
          "metadata": {
            "tags": []
          },
          "execution_count": 3
        }
      ]
    },
    {
      "cell_type": "markdown",
      "metadata": {
        "id": "i_Oydhd8Mxne"
      },
      "source": [
        "And you see the mean displayed in all its glory, and so you scream, **it doesn't include the median**\n",
        "\n",
        "But it does! Really! Give it a look around and see if you can find it.\n",
        "\n"
      ]
    },
    {
      "cell_type": "markdown",
      "metadata": {
        "id": "P7lz8xUIMxne"
      },
      "source": [
        "Yes, that's right - **50% is the median**. Half of the values are above, and half are below. The 25% and 75% are similar meaures:\n",
        "\n",
        "* 25%, a.k.a. **Q1**, a.k.a. **the first quartile** has 25% of the values below it and 75% above it.\n",
        "* 75%, a.k.a. **Q3**, a.k.a. **the third quartile** has 75% of the values below it and 25% below it.\n",
        "* and, of course, 50% is also known as **Q2**.\n",
        "\n",
        "25% can be thought of as the median of the bottom half of the data, and 75% can describe the median of the top half of the data. They give you a sense of **the range of data**."
      ]
    },
    {
      "cell_type": "markdown",
      "metadata": {
        "id": "75QKF2QS5wXB"
      },
      "source": [
        "Ok, let's go back to the FutureLearn platform."
      ]
    }
  ]
}