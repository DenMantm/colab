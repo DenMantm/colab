{
  "nbformat": 4,
  "nbformat_minor": 0,
  "metadata": {
    "colab": {
      "name": "M1.2.2_Descriptive_and_Inferential_Statistics.ipynb",
      "provenance": [],
      "include_colab_link": true
    },
    "kernelspec": {
      "name": "python3",
      "display_name": "Python 3"
    }
  },
  "cells": [
    {
      "cell_type": "markdown",
      "metadata": {
        "id": "view-in-github",
        "colab_type": "text"
      },
      "source": [
        "<a href=\"https://colab.research.google.com/github/DenMantm/colab/blob/main/examples/M1_2_2_Descriptive_and_Inferential_Statistics.ipynb\" target=\"_parent\"><img src=\"https://colab.research.google.com/assets/colab-badge.svg\" alt=\"Open In Colab\"/></a>"
      ]
    },
    {
      "cell_type": "markdown",
      "metadata": {
        "id": "qS7GYzOrMxm6"
      },
      "source": [
        "\n",
        "## Descriptive vs Inferential Statistics\n",
        "\n",
        " \n",
        "\n",
        "**Examples** \n",
        "\n",
        "We are going to read in a small dataset that will incorporate the heights of 7 students. \n",
        "\n",
        "The first thing we will do is import pandas and numpy. Both these libraries will be used throughout the course.\n",
        "\n",
        "**Pandas** is a really useful way of working with dataframes. It can be invaluable when looping through datasets as with a few quick moves, we can extract valuable information without a lot of for loops and if statements. \n",
        "\n",
        "**Numpy** is great for matrix or vector algebra and will improve overall processing efficiency when dealing with arrays/matrices.  \n",
        "\n",
        "\n",
        "\n",
        "\n",
        "\n",
        "\n",
        "\n"
      ]
    },
    {
      "cell_type": "code",
      "metadata": {
        "id": "mCcEYEx7Mxm3"
      },
      "source": [
        "import pandas as pd\n",
        "import numpy as np\n",
        "%matplotlib inline"
      ],
      "execution_count": null,
      "outputs": []
    },
    {
      "cell_type": "markdown",
      "metadata": {
        "id": "7THSlEOLSNrn"
      },
      "source": [
        "Now we want to create a pandas dataframe. We will then produce some very basic descriptive statistics. "
      ]
    },
    {
      "cell_type": "markdown",
      "metadata": {
        "id": "M1VKuKJ2OE8Q"
      },
      "source": [
        ""
      ]
    },
    {
      "cell_type": "code",
      "metadata": {
        "id": "5CkRnaFoNDMw",
        "colab": {
          "base_uri": "https://localhost:8080/",
          "height": 265
        },
        "outputId": "cfecb112-579b-410e-d6e2-7b5773034700"
      },
      "source": [
        "# Let's build a data set\n",
        "df = pd.DataFrame([\n",
        " { 'name': 'Student 1','Height': 1.7 } ,\n",
        " { 'name': 'Student 2', 'Height': 1.7 },\n",
        " { 'name': 'Student 3', 'Height': 1.9 },\n",
        " { 'name': 'Student 4', 'Height': 1.5 },\n",
        " { 'name': 'Student 5', 'Height': 1.6 },\n",
        " { 'name': 'Student 6', 'Height': 1.6 },\n",
        " { 'name': 'Student 7', 'Height': 1.700 }    \n",
        "])\n",
        "df"
      ],
      "execution_count": null,
      "outputs": [
        {
          "output_type": "execute_result",
          "data": {
            "text/html": [
              "<div>\n",
              "<style scoped>\n",
              "    .dataframe tbody tr th:only-of-type {\n",
              "        vertical-align: middle;\n",
              "    }\n",
              "\n",
              "    .dataframe tbody tr th {\n",
              "        vertical-align: top;\n",
              "    }\n",
              "\n",
              "    .dataframe thead th {\n",
              "        text-align: right;\n",
              "    }\n",
              "</style>\n",
              "<table border=\"1\" class=\"dataframe\">\n",
              "  <thead>\n",
              "    <tr style=\"text-align: right;\">\n",
              "      <th></th>\n",
              "      <th>name</th>\n",
              "      <th>Height</th>\n",
              "    </tr>\n",
              "  </thead>\n",
              "  <tbody>\n",
              "    <tr>\n",
              "      <th>0</th>\n",
              "      <td>Student 1</td>\n",
              "      <td>1.7</td>\n",
              "    </tr>\n",
              "    <tr>\n",
              "      <th>1</th>\n",
              "      <td>Student 2</td>\n",
              "      <td>1.7</td>\n",
              "    </tr>\n",
              "    <tr>\n",
              "      <th>2</th>\n",
              "      <td>Student 3</td>\n",
              "      <td>1.9</td>\n",
              "    </tr>\n",
              "    <tr>\n",
              "      <th>3</th>\n",
              "      <td>Student 4</td>\n",
              "      <td>1.5</td>\n",
              "    </tr>\n",
              "    <tr>\n",
              "      <th>4</th>\n",
              "      <td>Student 5</td>\n",
              "      <td>1.6</td>\n",
              "    </tr>\n",
              "    <tr>\n",
              "      <th>5</th>\n",
              "      <td>Student 6</td>\n",
              "      <td>1.6</td>\n",
              "    </tr>\n",
              "    <tr>\n",
              "      <th>6</th>\n",
              "      <td>Student 7</td>\n",
              "      <td>1.7</td>\n",
              "    </tr>\n",
              "  </tbody>\n",
              "</table>\n",
              "</div>"
            ],
            "text/plain": [
              "        name  Height\n",
              "0  Student 1     1.7\n",
              "1  Student 2     1.7\n",
              "2  Student 3     1.9\n",
              "3  Student 4     1.5\n",
              "4  Student 5     1.6\n",
              "5  Student 6     1.6\n",
              "6  Student 7     1.7"
            ]
          },
          "metadata": {
            "tags": []
          },
          "execution_count": 2
        }
      ]
    },
    {
      "cell_type": "code",
      "metadata": {
        "id": "Kv146Y1iTrYz",
        "colab": {
          "base_uri": "https://localhost:8080/",
          "height": 87
        },
        "outputId": "e68537f4-6e98-4cc5-d2df-1e615cf2a25b"
      },
      "source": [
        "print('The average height is:',df['Height'].mean())\n",
        "print('The median height is:',df['Height'].median())\n",
        "print('The mode height is: ',df['Height'].mode())"
      ],
      "execution_count": null,
      "outputs": [
        {
          "output_type": "stream",
          "text": [
            "The average height is: 1.6714285714285713\n",
            "The median height is: 1.7\n",
            "The mode height is:  0    1.7\n",
            "dtype: float64\n"
          ],
          "name": "stdout"
        }
      ]
    },
    {
      "cell_type": "markdown",
      "metadata": {
        "id": "SADCEdK3oAJD"
      },
      "source": [
        "When you finish this step, go back to the next step on FutureLearn."
      ]
    }
  ]
}