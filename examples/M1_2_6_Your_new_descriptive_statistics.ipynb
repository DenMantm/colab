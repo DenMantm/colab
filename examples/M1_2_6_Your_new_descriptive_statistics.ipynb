{
  "nbformat": 4,
  "nbformat_minor": 0,
  "metadata": {
    "colab": {
      "name": "M1.2.6_Your_new_descriptive_statistics.ipynb",
      "provenance": [],
      "collapsed_sections": [],
      "include_colab_link": true
    },
    "kernelspec": {
      "name": "python3",
      "display_name": "Python 3"
    }
  },
  "cells": [
    {
      "cell_type": "markdown",
      "metadata": {
        "id": "view-in-github",
        "colab_type": "text"
      },
      "source": [
        "<a href=\"https://colab.research.google.com/github/DenMantm/colab/blob/main/examples/M1_2_6_Your_new_descriptive_statistics.ipynb\" target=\"_parent\"><img src=\"https://colab.research.google.com/assets/colab-badge.svg\" alt=\"Open In Colab\"/></a>"
      ]
    },
    {
      "cell_type": "markdown",
      "metadata": {
        "id": "7geuBfP3HJUe"
      },
      "source": [
        "\n",
        "\n",
        "# Your good friend descriptive statistics\n",
        "\n",
        "Let's take a look at **central tendency** and **variability** with a simple data set."
      ]
    },
    {
      "cell_type": "markdown",
      "metadata": {
        "id": "k8FJnCVDHHaU"
      },
      "source": [
        "But like I said, `pandas` can help us out here with the `.mean()` method."
      ]
    },
    {
      "cell_type": "code",
      "metadata": {
        "id": "x6G2hdTuHGmb"
      },
      "source": [
        "import pandas as pd\n",
        "df=pd.DataFrame([\n",
        "                 {'name':'Smushface', 'salary':1200},\n",
        "                 {'name':'Jen', 'salary':25000},\n",
        "                 {'name':'James', 'salary':55000},\n",
        "                 {'name':'John', 'salary':35000},\n",
        "                 {'name':'Josephine', 'salary':25000},\n",
        "                 {'name':'Jacques', 'salary':15000},\n",
        "                 {'name':'Bill Gates', 'salary':100000}])\n",
        "\n",
        "df"
      ],
      "execution_count": null,
      "outputs": []
    },
    {
      "cell_type": "markdown",
      "metadata": {
        "id": "bHTfGkc1MxnJ"
      },
      "source": [
        "The problem with adding everything together is **Bill Gates is exerting undue influence**. His salary is an **outlier** - a number that's either way too high or way too low and kind of screws up our data. He might be making that much money, but by taking the mean we aren't doing a good job describing what we'd think of as the \"average\".\n",
        "\n",
        "\n",
        "**The mean is suseptible to outliers** because of the way it is calculated. You need to be careful with it, and because of that, the mean is definitely not my favourite way of getting the average."
      ]
    },
    {
      "cell_type": "code",
      "metadata": {
        "id": "G7x9YRHV0a3V"
      },
      "source": [
        ""
      ],
      "execution_count": null,
      "outputs": []
    },
    {
      "cell_type": "markdown",
      "metadata": {
        "id": "-wxTGRNDMxnK"
      },
      "source": [
        "## The MEDIAN\n",
        "\n",
        "The **median** is like a new, improved mean, in that it describes the central tendency **without being susceptible to outliers**. To compute the median you do two things:\n",
        "\n",
        "1. Order the numbers largest to smallest\n",
        "2. Pick the middle number"
      ]
    },
    {
      "cell_type": "code",
      "metadata": {
        "id": "aPh2ynR0IzWj"
      },
      "source": [
        ""
      ],
      "execution_count": null,
      "outputs": []
    },
    {
      "cell_type": "code",
      "metadata": {
        "id": "LOjclGL-MxnK"
      },
      "source": [
        "df['salary'].sort_values()"
      ],
      "execution_count": null,
      "outputs": []
    },
    {
      "cell_type": "markdown",
      "metadata": {
        "id": "8_2q7AWPMxnM"
      },
      "source": [
        "We have seven values, so it will be number four. Count up the list to discover it: **35,000** is the median. I'll prove it, too, using the power of `pandas`."
      ]
    },
    {
      "cell_type": "code",
      "metadata": {
        "id": "N-k0yHGfMxnN"
      },
      "source": [
        "df['salary'].median()"
      ],
      "execution_count": null,
      "outputs": []
    },
    {
      "cell_type": "markdown",
      "metadata": {
        "id": "XtFomucyMxnP"
      },
      "source": [
        "See? Told you!\n",
        "\n",
        "If you happen to have an **even number of data points**, you won't have a middle number. In that case, you'll take the **mean of the middle two numbers**.\n",
        "\n",
        "My favorite description of the median comes from [Statistics for the Terrified](http://www.conceptstew.co.uk/pages/mean_or_median.html)\n",
        "\n",
        "> We are all much more familiar with the mean - why? People like using the mean because it is a much easier thing to deal with than the median, mathematically, particularly in more complex situations...\n",
        "> ...\n",
        "> Always use the median when the distribution is skewed. You can use either the mean or the median when the population is symmetrical, because then they will give almost identical results.\n",
        "\n",
        "Which to me reads like \"if you have a computer, **use the median.**\""
      ]
    },
    {
      "cell_type": "markdown",
      "metadata": {
        "id": "RqFNpg36MxnP"
      },
      "source": [
        "\n",
        "\n",
        "```\n",
        "# This is formatted as code\n",
        "```\n",
        "\n",
        "## The MODE\n",
        "\n",
        "The **mode** is the least-used measurement of central tendency: it's the **most popular value**. Even though our salary dataset has a most popular value, the mode actually shouldn't be used with *continuous* data.  You should only use it with discrete data.\n",
        "\n",
        "Let's say our friends are reviewing a restaurant. "
      ]
    },
    {
      "cell_type": "code",
      "metadata": {
        "id": "py5lKVZ_MxnQ"
      },
      "source": [
        "import pandas as pd\n",
        "\n",
        "# Let's build a data set\n",
        "reviews_df = pd.DataFrame([\n",
        " { 'restaurant': 'Burger King', 'reviewer': 'Smushface', 'yelp_stars': 2 } ,\n",
        " { 'restaurant': 'Burger King', 'reviewer': 'Jen', 'yelp_stars': 2 },\n",
        " { 'restaurant': 'Burger King', 'reviewer': 'James', 'yelp_stars': 5 },\n",
        " { 'restaurant': 'Burger King', 'reviewer': 'John', 'yelp_stars': 4 },\n",
        " { 'restaurant': 'Burger King', 'reviewer': 'Josephine', 'yelp_stars': 4 },\n",
        " { 'restaurant': 'Burger King', 'reviewer': 'Jacques', 'yelp_stars': 3 },\n",
        " { 'restaurant': 'Burger King', 'reviewer': 'Bill Gates', 'yelp_stars': 2 }    \n",
        "])\n",
        "reviews_df"
      ],
      "execution_count": null,
      "outputs": []
    },
    {
      "cell_type": "code",
      "metadata": {
        "id": "xLqcKwaVMxnS"
      },
      "source": [
        "reviews_df['yelp_stars'].mode()"
      ],
      "execution_count": null,
      "outputs": []
    },
    {
      "cell_type": "markdown",
      "metadata": {
        "id": "U4aeQ8ORMxnV"
      },
      "source": [
        "Although most people gave Burger King a `3` or above, the fact that **the most popular score is `2`** might mean something.\n",
        "\n",
        "My favourite example of the mode being useful (and possibly the only example of the mode being useful) is **Amazon reviews.** For example, [this charger for a MacBook](https://www.amazon.com/Apple-Magsafe-Adapter-Charger-MacBook/dp/B014Z9P2VI/ref=sr_1_3?ie=UTF8&qid=1467768369&sr=8-3&keywords=macbook+charger) has some... interesting reviews."
      ]
    },
    {
      "cell_type": "markdown",
      "metadata": {
        "id": "KylBczqoMxna"
      },
      "source": [
        "## Lets quickly review the measures of central tendency\n",
        "\n",
        "There are three measures of central tendency.\n",
        "\n",
        "* The **mean** is the sum of all the numbers divided by the count of the numbers, and is pulled towards outliers.\n",
        "* The **median** is the middle number, and is not affected by outliers.\n",
        "* The **mode** is the most frequent number, is only used with nominal data, and isn't really useful.\n",
        "\n",
        "The median should probably be your favorite."
      ]
    },
    {
      "cell_type": "markdown",
      "metadata": {
        "id": "Pvn0Ke4lLUSg"
      },
      "source": [
        "\n",
        "\n",
        "\n",
        "<br>Ok, let's go back to the FutureLearn platform. "
      ]
    }
  ]
}