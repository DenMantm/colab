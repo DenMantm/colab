{
  "nbformat": 4,
  "nbformat_minor": 0,
  "metadata": {
    "colab": {
      "name": "M1.2.9_Measures_of_spread.ipynb",
      "provenance": [],
      "collapsed_sections": [
        "zyWbcfv4Mxnp"
      ],
      "include_colab_link": true
    },
    "kernelspec": {
      "name": "python3",
      "display_name": "Python 3"
    }
  },
  "cells": [
    {
      "cell_type": "markdown",
      "metadata": {
        "id": "view-in-github",
        "colab_type": "text"
      },
      "source": [
        "<a href=\"https://colab.research.google.com/github/DenMantm/colab/blob/main/examples/M1_2_9_Measures_of_spread.ipynb\" target=\"_parent\"><img src=\"https://colab.research.google.com/assets/colab-badge.svg\" alt=\"Open In Colab\"/></a>"
      ]
    },
    {
      "cell_type": "markdown",
      "metadata": {
        "id": "zyWbcfv4Mxnp"
      },
      "source": [
        "# Officializing the spread\n",
        "\n",
        "I'm going to steal a set of numbers from [Khan Academy](https://www.khanacademy.org/math/probability/descriptive-statistics/variance-std-deviation/v/range-variance-and-standard-deviation-as-measures-of-dispersion). Let's say we have two very boring sets of numbers."
      ]
    },
    {
      "cell_type": "code",
      "metadata": {
        "id": "4TIGtREAMxnp",
        "colab": {
          "base_uri": "https://localhost:8080/",
          "height": 232
        },
        "outputId": "f5bb1234-09d3-4b35-fbc0-b5bd18fa89d7"
      },
      "source": [
        "list_one = pd.Series([-10, 0, 10, 20, 30])\n",
        "list_two = pd.Series([8, 9, 10, 11, 12])\n",
        "print(\"list one is\")\n",
        "print(list_one)\n",
        "print(\"list two is\")\n",
        "print(list_two)"
      ],
      "execution_count": null,
      "outputs": [
        {
          "output_type": "error",
          "ename": "NameError",
          "evalue": "ignored",
          "traceback": [
            "\u001b[0;31m---------------------------------------------------------------------------\u001b[0m",
            "\u001b[0;31mNameError\u001b[0m                                 Traceback (most recent call last)",
            "\u001b[0;32m<ipython-input-1-007d3cc82f20>\u001b[0m in \u001b[0;36m<module>\u001b[0;34m()\u001b[0m\n\u001b[0;32m----> 1\u001b[0;31m \u001b[0mlist_one\u001b[0m \u001b[0;34m=\u001b[0m \u001b[0mpd\u001b[0m\u001b[0;34m.\u001b[0m\u001b[0mSeries\u001b[0m\u001b[0;34m(\u001b[0m\u001b[0;34m[\u001b[0m\u001b[0;34m-\u001b[0m\u001b[0;36m10\u001b[0m\u001b[0;34m,\u001b[0m \u001b[0;36m0\u001b[0m\u001b[0;34m,\u001b[0m \u001b[0;36m10\u001b[0m\u001b[0;34m,\u001b[0m \u001b[0;36m20\u001b[0m\u001b[0;34m,\u001b[0m \u001b[0;36m30\u001b[0m\u001b[0;34m]\u001b[0m\u001b[0;34m)\u001b[0m\u001b[0;34m\u001b[0m\u001b[0;34m\u001b[0m\u001b[0m\n\u001b[0m\u001b[1;32m      2\u001b[0m \u001b[0mlist_two\u001b[0m \u001b[0;34m=\u001b[0m \u001b[0mpd\u001b[0m\u001b[0;34m.\u001b[0m\u001b[0mSeries\u001b[0m\u001b[0;34m(\u001b[0m\u001b[0;34m[\u001b[0m\u001b[0;36m8\u001b[0m\u001b[0;34m,\u001b[0m \u001b[0;36m9\u001b[0m\u001b[0;34m,\u001b[0m \u001b[0;36m10\u001b[0m\u001b[0;34m,\u001b[0m \u001b[0;36m11\u001b[0m\u001b[0;34m,\u001b[0m \u001b[0;36m12\u001b[0m\u001b[0;34m]\u001b[0m\u001b[0;34m)\u001b[0m\u001b[0;34m\u001b[0m\u001b[0;34m\u001b[0m\u001b[0m\n\u001b[1;32m      3\u001b[0m \u001b[0mprint\u001b[0m\u001b[0;34m(\u001b[0m\u001b[0;34m\"list one is\"\u001b[0m\u001b[0;34m)\u001b[0m\u001b[0;34m\u001b[0m\u001b[0;34m\u001b[0m\u001b[0m\n\u001b[1;32m      4\u001b[0m \u001b[0mprint\u001b[0m\u001b[0;34m(\u001b[0m\u001b[0mlist_one\u001b[0m\u001b[0;34m)\u001b[0m\u001b[0;34m\u001b[0m\u001b[0;34m\u001b[0m\u001b[0m\n\u001b[1;32m      5\u001b[0m \u001b[0mprint\u001b[0m\u001b[0;34m(\u001b[0m\u001b[0;34m\"list two is\"\u001b[0m\u001b[0;34m)\u001b[0m\u001b[0;34m\u001b[0m\u001b[0;34m\u001b[0m\u001b[0m\n",
            "\u001b[0;31mNameError\u001b[0m: name 'pd' is not defined"
          ]
        }
      ]
    },
    {
      "cell_type": "markdown",
      "metadata": {
        "id": "E57jXvklMxnr"
      },
      "source": [
        "Let's use their central tendencies to describe them."
      ]
    },
    {
      "cell_type": "code",
      "metadata": {
        "id": "b_DQOD7hMxns",
        "colab": {
          "base_uri": "https://localhost:8080/",
          "height": 215
        },
        "outputId": "cdb254a6-35b7-4a29-842e-ccbb4abb8be9"
      },
      "source": [
        "print(\"The mean of list_one is\", list_one.mean())\n",
        "print(\"The mean of list_two is\", list_one.mean())\n",
        "print(\"The median of list_one is\", list_one.median())\n",
        "print(\"The median of list_two is\", list_one.median())"
      ],
      "execution_count": null,
      "outputs": [
        {
          "output_type": "error",
          "ename": "NameError",
          "evalue": "ignored",
          "traceback": [
            "\u001b[0;31m---------------------------------------------------------------------------\u001b[0m",
            "\u001b[0;31mNameError\u001b[0m                                 Traceback (most recent call last)",
            "\u001b[0;32m<ipython-input-2-8f5a92c92659>\u001b[0m in \u001b[0;36m<module>\u001b[0;34m()\u001b[0m\n\u001b[0;32m----> 1\u001b[0;31m \u001b[0mprint\u001b[0m\u001b[0;34m(\u001b[0m\u001b[0;34m\"The mean of list_one is\"\u001b[0m\u001b[0;34m,\u001b[0m \u001b[0mlist_one\u001b[0m\u001b[0;34m.\u001b[0m\u001b[0mmean\u001b[0m\u001b[0;34m(\u001b[0m\u001b[0;34m)\u001b[0m\u001b[0;34m)\u001b[0m\u001b[0;34m\u001b[0m\u001b[0;34m\u001b[0m\u001b[0m\n\u001b[0m\u001b[1;32m      2\u001b[0m \u001b[0mprint\u001b[0m\u001b[0;34m(\u001b[0m\u001b[0;34m\"The mean of list_two is\"\u001b[0m\u001b[0;34m,\u001b[0m \u001b[0mlist_one\u001b[0m\u001b[0;34m.\u001b[0m\u001b[0mmean\u001b[0m\u001b[0;34m(\u001b[0m\u001b[0;34m)\u001b[0m\u001b[0;34m)\u001b[0m\u001b[0;34m\u001b[0m\u001b[0;34m\u001b[0m\u001b[0m\n\u001b[1;32m      3\u001b[0m \u001b[0mprint\u001b[0m\u001b[0;34m(\u001b[0m\u001b[0;34m\"The median of list_one is\"\u001b[0m\u001b[0;34m,\u001b[0m \u001b[0mlist_one\u001b[0m\u001b[0;34m.\u001b[0m\u001b[0mmedian\u001b[0m\u001b[0;34m(\u001b[0m\u001b[0;34m)\u001b[0m\u001b[0;34m)\u001b[0m\u001b[0;34m\u001b[0m\u001b[0;34m\u001b[0m\u001b[0m\n\u001b[1;32m      4\u001b[0m \u001b[0mprint\u001b[0m\u001b[0;34m(\u001b[0m\u001b[0;34m\"The median of list_two is\"\u001b[0m\u001b[0;34m,\u001b[0m \u001b[0mlist_one\u001b[0m\u001b[0;34m.\u001b[0m\u001b[0mmedian\u001b[0m\u001b[0;34m(\u001b[0m\u001b[0;34m)\u001b[0m\u001b[0;34m)\u001b[0m\u001b[0;34m\u001b[0m\u001b[0;34m\u001b[0m\u001b[0m\n",
            "\u001b[0;31mNameError\u001b[0m: name 'list_one' is not defined"
          ]
        }
      ]
    },
    {
      "cell_type": "markdown",
      "metadata": {
        "id": "FgKkr95YMxnt"
      },
      "source": [
        "Huh! But I mean, let's be honest: THESE LISTS OF NUMBERS ARE VERY DIFFERENT. If their central tendencies are the same, the way to describe them, then, is to talk about the *spread*, or how the actual numbers themselves are distributed."
      ]
    },
    {
      "cell_type": "markdown",
      "metadata": {
        "id": "iGbmI8IBMxnu"
      },
      "source": [
        "So we learned about the **range** before, it's the difference between the smallest and largest number.\n",
        "\n",
        "* For `[-10, 0, 10, 20, 30]`, the range is `40`. It's much more dispersed.\n",
        "* For `[8, 9, 10, 11, 12]`, the range is `4`. It's much tighter.\n",
        "\n",
        "That's helpful! But there are more ways to measure the spread than just range.\n",
        "\n",
        "## Measures of spread\n",
        "\n",
        "Along with range, there are two other things we need to learn about how these numbers are distributed: **variance** and **standard deviation**.\n",
        "\n",
        "* **Range** is the difference between the largest and smallest number\n",
        "* **Variance** is difference between each data point and the mean, squared. And then you take the mean of that. *What* Yeah, I know, we'll break it down in a second.\n",
        "* **Standard deviation** is the square root of the variance."
      ]
    },
    {
      "cell_type": "markdown",
      "metadata": {
        "id": "jpZ2aaxtMxnu"
      },
      "source": [
        "### Variance\n",
        "\n",
        "Each data point, subtracted from the mean, squared, and then you add all that together. It looks like this:"
      ]
    },
    {
      "cell_type": "code",
      "metadata": {
        "id": "8XkLNncJMxnv",
        "outputId": "b2c5e2b1-622a-4982-b08c-2566075a0c60"
      },
      "source": [
        "# Data points [-10, 0, 10, 20, 30]\n",
        "# Mean: 10\n",
        "((-10 - 10)**2 + (0 - 10)**2 + (10 - 10)**2 + (20 - 10)**2 + (30 - 10)**2) / 5"
      ],
      "execution_count": null,
      "outputs": [
        {
          "output_type": "execute_result",
          "data": {
            "text/plain": [
              "200.0"
            ]
          },
          "metadata": {
            "tags": []
          },
          "execution_count": 329
        }
      ]
    },
    {
      "cell_type": "code",
      "metadata": {
        "id": "Q5ZiDMX4Mxnw",
        "outputId": "0db21132-ee59-4e63-ef43-ccad6ddf469c"
      },
      "source": [
        "# Data points [8, 9, 10, 11, 12]\n",
        "# Mean: 10\n",
        "((8 - 10)**2 + (9 - 10)**2 + (10 - 10)**2 + (11 - 10)**2 + (12 - 10)**2) / 5"
      ],
      "execution_count": null,
      "outputs": [
        {
          "output_type": "execute_result",
          "data": {
            "text/plain": [
              "2.0"
            ]
          },
          "metadata": {
            "tags": []
          },
          "execution_count": 330
        }
      ]
    },
    {
      "cell_type": "code",
      "metadata": {
        "id": "B1WSQ35eMxny",
        "outputId": "e5e209f5-d4c3-4347-87fb-a018f6067e51"
      },
      "source": [
        "# And pandas agrees\n",
        "# Please don't ask why ddof=0 it has to do with sample variance\n",
        "print(list_one.var(ddof=0))\n",
        "print(list_two.var(ddof=0))"
      ],
      "execution_count": null,
      "outputs": [
        {
          "output_type": "stream",
          "text": [
            "200.0\n",
            "2.0\n"
          ],
          "name": "stdout"
        }
      ]
    },
    {
      "cell_type": "markdown",
      "metadata": {
        "id": "xs87mt0oMxn1"
      },
      "source": [
        "So first, the first data set has a much higher variance than the first variance."
      ]
    },
    {
      "cell_type": "markdown",
      "metadata": {
        "id": "BtmPasrJMxn3"
      },
      "source": [
        "## Standard deviation"
      ]
    },
    {
      "cell_type": "code",
      "metadata": {
        "id": "FY10tRAUMxn4"
      },
      "source": [
        "import math"
      ],
      "execution_count": null,
      "outputs": []
    },
    {
      "cell_type": "code",
      "metadata": {
        "id": "T7LdUR_8Mxn8",
        "outputId": "65f1570b-22ee-4fc5-971a-a5391f18a7a8"
      },
      "source": [
        "# Data points [-10, 0, 10, 20, 30]\n",
        "# Variance: 200\n",
        "math.sqrt(200)"
      ],
      "execution_count": null,
      "outputs": [
        {
          "output_type": "execute_result",
          "data": {
            "text/plain": [
              "14.142135623730951"
            ]
          },
          "metadata": {
            "tags": []
          },
          "execution_count": 333
        }
      ]
    },
    {
      "cell_type": "code",
      "metadata": {
        "id": "LCw6kJM5Mxn_",
        "colab": {
          "base_uri": "https://localhost:8080/",
          "height": 34
        },
        "outputId": "4e1e79e4-6933-4697-ced1-50afae26be5a"
      },
      "source": [
        "# Data points [8, 9, 10, 11, 12]\n",
        "# Variance: 2.0\n",
        "math.sqrt(2)"
      ],
      "execution_count": null,
      "outputs": [
        {
          "output_type": "execute_result",
          "data": {
            "text/plain": [
              "1.4142135623730951"
            ]
          },
          "metadata": {
            "tags": []
          },
          "execution_count": 4
        }
      ]
    },
    {
      "cell_type": "markdown",
      "metadata": {
        "id": "kr3rPauAMxoC"
      },
      "source": [
        "The first data set has ten times the standard deviation than the second data set. Since the standard deviation is 10x larger, think about it as \"generally, a data point in the first data set is 10x further from the mean than in the second data set.\""
      ]
    }
  ]
}